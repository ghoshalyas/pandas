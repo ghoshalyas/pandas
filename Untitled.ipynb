{
 "cells": [
  {
   "cell_type": "markdown",
   "id": "75399a78",
   "metadata": {},
   "source": [
    "## pandas syntex\n"
   ]
  },
  {
   "cell_type": "code",
   "execution_count": 1,
   "id": "c1eb5396",
   "metadata": {},
   "outputs": [],
   "source": [
    "import numpy as np\n",
    "import pandas as pd\n"
   ]
  },
  {
   "cell_type": "code",
   "execution_count": 2,
   "id": "f502427f",
   "metadata": {},
   "outputs": [],
   "source": [
    "dict1 ={\n",
    "    \"name\":['subhash','sunil','surendra','ghansu'],\n",
    "    \"state\":['parmanpura','jaipur','jodhpur','bhuvneswar'],\n",
    "    \"Age\":[22,23,23,22],\n",
    "    \"height\":[6.0,6.1,6.2,6.3],\n",
    "}"
   ]
  },
  {
   "cell_type": "markdown",
   "id": "f8b59e53",
   "metadata": {},
   "source": [
    "### set a data frame\n"
   ]
  },
  {
   "cell_type": "code",
   "execution_count": 3,
   "id": "04269288",
   "metadata": {},
   "outputs": [],
   "source": [
    "df = pd.DataFrame(dict1)"
   ]
  },
  {
   "cell_type": "code",
   "execution_count": 4,
   "id": "366b09b4",
   "metadata": {},
   "outputs": [
    {
     "data": {
      "text/html": [
       "<div>\n",
       "<style scoped>\n",
       "    .dataframe tbody tr th:only-of-type {\n",
       "        vertical-align: middle;\n",
       "    }\n",
       "\n",
       "    .dataframe tbody tr th {\n",
       "        vertical-align: top;\n",
       "    }\n",
       "\n",
       "    .dataframe thead th {\n",
       "        text-align: right;\n",
       "    }\n",
       "</style>\n",
       "<table border=\"1\" class=\"dataframe\">\n",
       "  <thead>\n",
       "    <tr style=\"text-align: right;\">\n",
       "      <th></th>\n",
       "      <th>name</th>\n",
       "      <th>state</th>\n",
       "      <th>Age</th>\n",
       "      <th>height</th>\n",
       "    </tr>\n",
       "  </thead>\n",
       "  <tbody>\n",
       "    <tr>\n",
       "      <th>0</th>\n",
       "      <td>subhash</td>\n",
       "      <td>parmanpura</td>\n",
       "      <td>22</td>\n",
       "      <td>6.0</td>\n",
       "    </tr>\n",
       "    <tr>\n",
       "      <th>1</th>\n",
       "      <td>sunil</td>\n",
       "      <td>jaipur</td>\n",
       "      <td>23</td>\n",
       "      <td>6.1</td>\n",
       "    </tr>\n",
       "    <tr>\n",
       "      <th>2</th>\n",
       "      <td>surendra</td>\n",
       "      <td>jodhpur</td>\n",
       "      <td>23</td>\n",
       "      <td>6.2</td>\n",
       "    </tr>\n",
       "    <tr>\n",
       "      <th>3</th>\n",
       "      <td>ghansu</td>\n",
       "      <td>bhuvneswar</td>\n",
       "      <td>22</td>\n",
       "      <td>6.3</td>\n",
       "    </tr>\n",
       "  </tbody>\n",
       "</table>\n",
       "</div>"
      ],
      "text/plain": [
       "       name       state  Age  height\n",
       "0   subhash  parmanpura   22     6.0\n",
       "1     sunil      jaipur   23     6.1\n",
       "2  surendra     jodhpur   23     6.2\n",
       "3    ghansu  bhuvneswar   22     6.3"
      ]
     },
     "execution_count": 4,
     "metadata": {},
     "output_type": "execute_result"
    }
   ],
   "source": [
    "df\n"
   ]
  },
  {
   "cell_type": "markdown",
   "id": "c5e8994f",
   "metadata": {},
   "source": []
  },
  {
   "cell_type": "markdown",
   "id": "bbe5d3f1",
   "metadata": {},
   "source": [
    "### csv formating to Data Frame(df)"
   ]
  },
  {
   "cell_type": "code",
   "execution_count": 5,
   "id": "fdd0b11e",
   "metadata": {},
   "outputs": [],
   "source": [
    "df.to_csv(\"data1\")"
   ]
  },
  {
   "cell_type": "code",
   "execution_count": 6,
   "id": "a21076fd",
   "metadata": {},
   "outputs": [],
   "source": [
    "df.to_csv(\"data1\",index = False)"
   ]
  },
  {
   "cell_type": "markdown",
   "id": "0ee02e4e",
   "metadata": {},
   "source": [
    "showing without index "
   ]
  },
  {
   "cell_type": "markdown",
   "id": "46ada387",
   "metadata": {},
   "source": [
    "#### showing DataFrame value head ,tails"
   ]
  },
  {
   "cell_type": "code",
   "execution_count": 7,
   "id": "54f7a8f8",
   "metadata": {},
   "outputs": [
    {
     "data": {
      "text/html": [
       "<div>\n",
       "<style scoped>\n",
       "    .dataframe tbody tr th:only-of-type {\n",
       "        vertical-align: middle;\n",
       "    }\n",
       "\n",
       "    .dataframe tbody tr th {\n",
       "        vertical-align: top;\n",
       "    }\n",
       "\n",
       "    .dataframe thead th {\n",
       "        text-align: right;\n",
       "    }\n",
       "</style>\n",
       "<table border=\"1\" class=\"dataframe\">\n",
       "  <thead>\n",
       "    <tr style=\"text-align: right;\">\n",
       "      <th></th>\n",
       "      <th>name</th>\n",
       "      <th>state</th>\n",
       "      <th>Age</th>\n",
       "      <th>height</th>\n",
       "    </tr>\n",
       "  </thead>\n",
       "  <tbody>\n",
       "    <tr>\n",
       "      <th>0</th>\n",
       "      <td>subhash</td>\n",
       "      <td>parmanpura</td>\n",
       "      <td>22</td>\n",
       "      <td>6.0</td>\n",
       "    </tr>\n",
       "  </tbody>\n",
       "</table>\n",
       "</div>"
      ],
      "text/plain": [
       "      name       state  Age  height\n",
       "0  subhash  parmanpura   22     6.0"
      ]
     },
     "execution_count": 7,
     "metadata": {},
     "output_type": "execute_result"
    }
   ],
   "source": [
    "df.head(1)\n"
   ]
  },
  {
   "cell_type": "code",
   "execution_count": 8,
   "id": "6d19dc65",
   "metadata": {},
   "outputs": [
    {
     "data": {
      "text/html": [
       "<div>\n",
       "<style scoped>\n",
       "    .dataframe tbody tr th:only-of-type {\n",
       "        vertical-align: middle;\n",
       "    }\n",
       "\n",
       "    .dataframe tbody tr th {\n",
       "        vertical-align: top;\n",
       "    }\n",
       "\n",
       "    .dataframe thead th {\n",
       "        text-align: right;\n",
       "    }\n",
       "</style>\n",
       "<table border=\"1\" class=\"dataframe\">\n",
       "  <thead>\n",
       "    <tr style=\"text-align: right;\">\n",
       "      <th></th>\n",
       "      <th>name</th>\n",
       "      <th>state</th>\n",
       "      <th>Age</th>\n",
       "      <th>height</th>\n",
       "    </tr>\n",
       "  </thead>\n",
       "  <tbody>\n",
       "    <tr>\n",
       "      <th>2</th>\n",
       "      <td>surendra</td>\n",
       "      <td>jodhpur</td>\n",
       "      <td>23</td>\n",
       "      <td>6.2</td>\n",
       "    </tr>\n",
       "    <tr>\n",
       "      <th>3</th>\n",
       "      <td>ghansu</td>\n",
       "      <td>bhuvneswar</td>\n",
       "      <td>22</td>\n",
       "      <td>6.3</td>\n",
       "    </tr>\n",
       "  </tbody>\n",
       "</table>\n",
       "</div>"
      ],
      "text/plain": [
       "       name       state  Age  height\n",
       "2  surendra     jodhpur   23     6.2\n",
       "3    ghansu  bhuvneswar   22     6.3"
      ]
     },
     "execution_count": 8,
     "metadata": {},
     "output_type": "execute_result"
    }
   ],
   "source": [
    "df.tail(2)"
   ]
  },
  {
   "cell_type": "markdown",
   "id": "f9af2838",
   "metadata": {},
   "source": [
    "### static analysis"
   ]
  },
  {
   "cell_type": "code",
   "execution_count": 9,
   "id": "9045f736",
   "metadata": {},
   "outputs": [
    {
     "data": {
      "text/html": [
       "<div>\n",
       "<style scoped>\n",
       "    .dataframe tbody tr th:only-of-type {\n",
       "        vertical-align: middle;\n",
       "    }\n",
       "\n",
       "    .dataframe tbody tr th {\n",
       "        vertical-align: top;\n",
       "    }\n",
       "\n",
       "    .dataframe thead th {\n",
       "        text-align: right;\n",
       "    }\n",
       "</style>\n",
       "<table border=\"1\" class=\"dataframe\">\n",
       "  <thead>\n",
       "    <tr style=\"text-align: right;\">\n",
       "      <th></th>\n",
       "      <th>Age</th>\n",
       "      <th>height</th>\n",
       "    </tr>\n",
       "  </thead>\n",
       "  <tbody>\n",
       "    <tr>\n",
       "      <th>count</th>\n",
       "      <td>4.00000</td>\n",
       "      <td>4.000000</td>\n",
       "    </tr>\n",
       "    <tr>\n",
       "      <th>mean</th>\n",
       "      <td>22.50000</td>\n",
       "      <td>6.150000</td>\n",
       "    </tr>\n",
       "    <tr>\n",
       "      <th>std</th>\n",
       "      <td>0.57735</td>\n",
       "      <td>0.129099</td>\n",
       "    </tr>\n",
       "    <tr>\n",
       "      <th>min</th>\n",
       "      <td>22.00000</td>\n",
       "      <td>6.000000</td>\n",
       "    </tr>\n",
       "    <tr>\n",
       "      <th>25%</th>\n",
       "      <td>22.00000</td>\n",
       "      <td>6.075000</td>\n",
       "    </tr>\n",
       "    <tr>\n",
       "      <th>50%</th>\n",
       "      <td>22.50000</td>\n",
       "      <td>6.150000</td>\n",
       "    </tr>\n",
       "    <tr>\n",
       "      <th>75%</th>\n",
       "      <td>23.00000</td>\n",
       "      <td>6.225000</td>\n",
       "    </tr>\n",
       "    <tr>\n",
       "      <th>max</th>\n",
       "      <td>23.00000</td>\n",
       "      <td>6.300000</td>\n",
       "    </tr>\n",
       "  </tbody>\n",
       "</table>\n",
       "</div>"
      ],
      "text/plain": [
       "            Age    height\n",
       "count   4.00000  4.000000\n",
       "mean   22.50000  6.150000\n",
       "std     0.57735  0.129099\n",
       "min    22.00000  6.000000\n",
       "25%    22.00000  6.075000\n",
       "50%    22.50000  6.150000\n",
       "75%    23.00000  6.225000\n",
       "max    23.00000  6.300000"
      ]
     },
     "execution_count": 9,
     "metadata": {},
     "output_type": "execute_result"
    }
   ],
   "source": [
    "df.describe()"
   ]
  },
  {
   "cell_type": "markdown",
   "id": "9466abdb",
   "metadata": {},
   "source": [
    "### convert  csv file format to DataFrame(df)"
   ]
  },
  {
   "cell_type": "code",
   "execution_count": 11,
   "id": "5357dc1c",
   "metadata": {},
   "outputs": [],
   "source": [
    "subh = pd.read_csv('data1')"
   ]
  },
  {
   "cell_type": "code",
   "execution_count": 13,
   "id": "d8ee0cfe",
   "metadata": {},
   "outputs": [
    {
     "data": {
      "text/html": [
       "<div>\n",
       "<style scoped>\n",
       "    .dataframe tbody tr th:only-of-type {\n",
       "        vertical-align: middle;\n",
       "    }\n",
       "\n",
       "    .dataframe tbody tr th {\n",
       "        vertical-align: top;\n",
       "    }\n",
       "\n",
       "    .dataframe thead th {\n",
       "        text-align: right;\n",
       "    }\n",
       "</style>\n",
       "<table border=\"1\" class=\"dataframe\">\n",
       "  <thead>\n",
       "    <tr style=\"text-align: right;\">\n",
       "      <th></th>\n",
       "      <th>name</th>\n",
       "      <th>state</th>\n",
       "      <th>Age</th>\n",
       "      <th>height</th>\n",
       "    </tr>\n",
       "  </thead>\n",
       "  <tbody>\n",
       "    <tr>\n",
       "      <th>0</th>\n",
       "      <td>subhash</td>\n",
       "      <td>parmanpura</td>\n",
       "      <td>22</td>\n",
       "      <td>6.0</td>\n",
       "    </tr>\n",
       "    <tr>\n",
       "      <th>1</th>\n",
       "      <td>sunil</td>\n",
       "      <td>jaipur</td>\n",
       "      <td>23</td>\n",
       "      <td>6.1</td>\n",
       "    </tr>\n",
       "    <tr>\n",
       "      <th>2</th>\n",
       "      <td>surendra</td>\n",
       "      <td>jodhpur</td>\n",
       "      <td>23</td>\n",
       "      <td>6.2</td>\n",
       "    </tr>\n",
       "    <tr>\n",
       "      <th>3</th>\n",
       "      <td>ghansu</td>\n",
       "      <td>bhuvneswar</td>\n",
       "      <td>22</td>\n",
       "      <td>6.3</td>\n",
       "    </tr>\n",
       "  </tbody>\n",
       "</table>\n",
       "</div>"
      ],
      "text/plain": [
       "       name       state  Age  height\n",
       "0   subhash  parmanpura   22     6.0\n",
       "1     sunil      jaipur   23     6.1\n",
       "2  surendra     jodhpur   23     6.2\n",
       "3    ghansu  bhuvneswar   22     6.3"
      ]
     },
     "execution_count": 13,
     "metadata": {},
     "output_type": "execute_result"
    }
   ],
   "source": [
    "subh"
   ]
  },
  {
   "cell_type": "markdown",
   "id": "41191815",
   "metadata": {},
   "source": [
    "### replace the value there alredy exist"
   ]
  },
  {
   "cell_type": "code",
   "execution_count": 15,
   "id": "b4186222",
   "metadata": {},
   "outputs": [
    {
     "name": "stderr",
     "output_type": "stream",
     "text": [
      "C:\\Windows\\Temp\\ipykernel_7088\\4100941580.py:1: SettingWithCopyWarning: \n",
      "A value is trying to be set on a copy of a slice from a DataFrame\n",
      "\n",
      "See the caveats in the documentation: https://pandas.pydata.org/pandas-docs/stable/user_guide/indexing.html#returning-a-view-versus-a-copy\n",
      "  subh['Age'][0]=30\n"
     ]
    }
   ],
   "source": [
    "subh['Age'][0]=30"
   ]
  },
  {
   "cell_type": "markdown",
   "id": "b737a8fa",
   "metadata": {},
   "source": [
    "there is showing error because you can't change the value directly"
   ]
  },
  {
   "cell_type": "markdown",
   "id": "e974d3f1",
   "metadata": {},
   "source": [
    "### there is the another way to change the value "
   ]
  },
  {
   "cell_type": "code",
   "execution_count": 18,
   "id": "aa5b91bd",
   "metadata": {},
   "outputs": [],
   "source": [
    "newdf=df.copy()"
   ]
  },
  {
   "cell_type": "code",
   "execution_count": 28,
   "id": "cbde8159",
   "metadata": {},
   "outputs": [],
   "source": [
    "newdf.loc[0,'Age']=31"
   ]
  },
  {
   "cell_type": "code",
   "execution_count": 31,
   "id": "4e534931",
   "metadata": {},
   "outputs": [],
   "source": [
    "newdf.iloc[0,2]=32"
   ]
  },
  {
   "cell_type": "code",
   "execution_count": 32,
   "id": "10330983",
   "metadata": {},
   "outputs": [
    {
     "data": {
      "text/html": [
       "<div>\n",
       "<style scoped>\n",
       "    .dataframe tbody tr th:only-of-type {\n",
       "        vertical-align: middle;\n",
       "    }\n",
       "\n",
       "    .dataframe tbody tr th {\n",
       "        vertical-align: top;\n",
       "    }\n",
       "\n",
       "    .dataframe thead th {\n",
       "        text-align: right;\n",
       "    }\n",
       "</style>\n",
       "<table border=\"1\" class=\"dataframe\">\n",
       "  <thead>\n",
       "    <tr style=\"text-align: right;\">\n",
       "      <th></th>\n",
       "      <th>name</th>\n",
       "      <th>state</th>\n",
       "      <th>Age</th>\n",
       "      <th>height</th>\n",
       "    </tr>\n",
       "  </thead>\n",
       "  <tbody>\n",
       "    <tr>\n",
       "      <th>0</th>\n",
       "      <td>subhash</td>\n",
       "      <td>parmanpura</td>\n",
       "      <td>32</td>\n",
       "      <td>6.0</td>\n",
       "    </tr>\n",
       "    <tr>\n",
       "      <th>1</th>\n",
       "      <td>sunil</td>\n",
       "      <td>jaipur</td>\n",
       "      <td>23</td>\n",
       "      <td>6.1</td>\n",
       "    </tr>\n",
       "    <tr>\n",
       "      <th>2</th>\n",
       "      <td>surendra</td>\n",
       "      <td>jodhpur</td>\n",
       "      <td>23</td>\n",
       "      <td>6.2</td>\n",
       "    </tr>\n",
       "    <tr>\n",
       "      <th>3</th>\n",
       "      <td>ghansu</td>\n",
       "      <td>bhuvneswar</td>\n",
       "      <td>22</td>\n",
       "      <td>6.3</td>\n",
       "    </tr>\n",
       "  </tbody>\n",
       "</table>\n",
       "</div>"
      ],
      "text/plain": [
       "       name       state  Age  height\n",
       "0   subhash  parmanpura   32     6.0\n",
       "1     sunil      jaipur   23     6.1\n",
       "2  surendra     jodhpur   23     6.2\n",
       "3    ghansu  bhuvneswar   22     6.3"
      ]
     },
     "execution_count": 32,
     "metadata": {},
     "output_type": "execute_result"
    }
   ],
   "source": [
    "newdf"
   ]
  },
  {
   "cell_type": "markdown",
   "id": "170b3016",
   "metadata": {},
   "source": [
    "### Drop the column"
   ]
  },
  {
   "cell_type": "code",
   "execution_count": 34,
   "id": "a76f90f4",
   "metadata": {},
   "outputs": [],
   "source": [
    "newdf1 = newdf.drop('name',axis=1)"
   ]
  },
  {
   "cell_type": "code",
   "execution_count": 36,
   "id": "0746bed7",
   "metadata": {},
   "outputs": [
    {
     "data": {
      "text/html": [
       "<div>\n",
       "<style scoped>\n",
       "    .dataframe tbody tr th:only-of-type {\n",
       "        vertical-align: middle;\n",
       "    }\n",
       "\n",
       "    .dataframe tbody tr th {\n",
       "        vertical-align: top;\n",
       "    }\n",
       "\n",
       "    .dataframe thead th {\n",
       "        text-align: right;\n",
       "    }\n",
       "</style>\n",
       "<table border=\"1\" class=\"dataframe\">\n",
       "  <thead>\n",
       "    <tr style=\"text-align: right;\">\n",
       "      <th></th>\n",
       "      <th>state</th>\n",
       "      <th>Age</th>\n",
       "      <th>height</th>\n",
       "    </tr>\n",
       "  </thead>\n",
       "  <tbody>\n",
       "    <tr>\n",
       "      <th>0</th>\n",
       "      <td>parmanpura</td>\n",
       "      <td>32</td>\n",
       "      <td>6.0</td>\n",
       "    </tr>\n",
       "    <tr>\n",
       "      <th>1</th>\n",
       "      <td>jaipur</td>\n",
       "      <td>23</td>\n",
       "      <td>6.1</td>\n",
       "    </tr>\n",
       "    <tr>\n",
       "      <th>2</th>\n",
       "      <td>jodhpur</td>\n",
       "      <td>23</td>\n",
       "      <td>6.2</td>\n",
       "    </tr>\n",
       "    <tr>\n",
       "      <th>3</th>\n",
       "      <td>bhuvneswar</td>\n",
       "      <td>22</td>\n",
       "      <td>6.3</td>\n",
       "    </tr>\n",
       "  </tbody>\n",
       "</table>\n",
       "</div>"
      ],
      "text/plain": [
       "        state  Age  height\n",
       "0  parmanpura   32     6.0\n",
       "1      jaipur   23     6.1\n",
       "2     jodhpur   23     6.2\n",
       "3  bhuvneswar   22     6.3"
      ]
     },
     "execution_count": 36,
     "metadata": {},
     "output_type": "execute_result"
    }
   ],
   "source": [
    "newdf1"
   ]
  },
  {
   "cell_type": "code",
   "execution_count": 37,
   "id": "1575b210",
   "metadata": {},
   "outputs": [
    {
     "data": {
      "text/html": [
       "<div>\n",
       "<style scoped>\n",
       "    .dataframe tbody tr th:only-of-type {\n",
       "        vertical-align: middle;\n",
       "    }\n",
       "\n",
       "    .dataframe tbody tr th {\n",
       "        vertical-align: top;\n",
       "    }\n",
       "\n",
       "    .dataframe thead th {\n",
       "        text-align: right;\n",
       "    }\n",
       "</style>\n",
       "<table border=\"1\" class=\"dataframe\">\n",
       "  <thead>\n",
       "    <tr style=\"text-align: right;\">\n",
       "      <th></th>\n",
       "      <th>name</th>\n",
       "      <th>state</th>\n",
       "      <th>Age</th>\n",
       "      <th>height</th>\n",
       "    </tr>\n",
       "  </thead>\n",
       "  <tbody>\n",
       "    <tr>\n",
       "      <th>0</th>\n",
       "      <td>subhash</td>\n",
       "      <td>parmanpura</td>\n",
       "      <td>32</td>\n",
       "      <td>6.0</td>\n",
       "    </tr>\n",
       "    <tr>\n",
       "      <th>1</th>\n",
       "      <td>sunil</td>\n",
       "      <td>jaipur</td>\n",
       "      <td>23</td>\n",
       "      <td>6.1</td>\n",
       "    </tr>\n",
       "    <tr>\n",
       "      <th>2</th>\n",
       "      <td>surendra</td>\n",
       "      <td>jodhpur</td>\n",
       "      <td>23</td>\n",
       "      <td>6.2</td>\n",
       "    </tr>\n",
       "    <tr>\n",
       "      <th>3</th>\n",
       "      <td>ghansu</td>\n",
       "      <td>bhuvneswar</td>\n",
       "      <td>22</td>\n",
       "      <td>6.3</td>\n",
       "    </tr>\n",
       "  </tbody>\n",
       "</table>\n",
       "</div>"
      ],
      "text/plain": [
       "       name       state  Age  height\n",
       "0   subhash  parmanpura   32     6.0\n",
       "1     sunil      jaipur   23     6.1\n",
       "2  surendra     jodhpur   23     6.2\n",
       "3    ghansu  bhuvneswar   22     6.3"
      ]
     },
     "execution_count": 37,
     "metadata": {},
     "output_type": "execute_result"
    }
   ],
   "source": [
    "newdf\n"
   ]
  },
  {
   "cell_type": "code",
   "execution_count": null,
   "id": "9fcb4605",
   "metadata": {},
   "outputs": [],
   "source": []
  }
 ],
 "metadata": {
  "kernelspec": {
   "display_name": "Python 3 (ipykernel)",
   "language": "python",
   "name": "python3"
  },
  "language_info": {
   "codemirror_mode": {
    "name": "ipython",
    "version": 3
   },
   "file_extension": ".py",
   "mimetype": "text/x-python",
   "name": "python",
   "nbconvert_exporter": "python",
   "pygments_lexer": "ipython3",
   "version": "3.11.0"
  }
 },
 "nbformat": 4,
 "nbformat_minor": 5
}
